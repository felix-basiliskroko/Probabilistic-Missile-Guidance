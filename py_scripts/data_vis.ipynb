{
 "cells": [
  {
   "cell_type": "code",
   "execution_count": 58,
   "id": "initial_id",
   "metadata": {
    "collapsed": true,
    "ExecuteTime": {
     "end_time": "2025-02-18T15:24:44.023992Z",
     "start_time": "2025-02-18T15:24:44.018154Z"
    }
   },
   "outputs": [],
   "source": [
    "import pandas as pd\n",
    "import numpy as np"
   ]
  },
  {
   "cell_type": "code",
   "outputs": [],
   "source": [
    "with open(\"../kin_engagement_dataset.csv\") as f:\n",
    "    data = pd.read_csv(f)"
   ],
   "metadata": {
    "collapsed": false,
    "ExecuteTime": {
     "end_time": "2025-02-19T16:16:26.682653Z",
     "start_time": "2025-02-19T16:16:26.433469Z"
    }
   },
   "id": "4628bdbd020b338e",
   "execution_count": 162
  },
  {
   "cell_type": "code",
   "outputs": [
    {
     "data": {
      "text/plain": "             hP       dP  gammaP       hE   dE  gammaE    beta  hit_flag  \\\n0       5000.00     0.00 -0.3491  5000.00  0.0 -0.3491 -0.3491         0   \n1       5000.00     0.00 -0.3491  5000.00  0.0 -0.3491 -0.2493         0   \n2       5000.00     0.00 -0.3491  5000.00  0.0 -0.3491 -0.1496         0   \n3       5000.00     0.00 -0.3491  5000.00  0.0 -0.3491 -0.0499         0   \n4       5000.00     0.00 -0.3491  5000.00  0.0 -0.3491  0.0499         0   \n...         ...      ...     ...      ...  ...     ...     ...       ...   \n316426  6428.57  2857.14  0.1496  7857.14  0.0 -0.2493 -0.1496         0   \n316427  6428.57  2857.14  0.1496  7857.14  0.0 -0.2493 -0.0499         0   \n316428  6428.57  2857.14  0.1496  7857.14  0.0 -0.2493  0.0499         0   \n316429  6428.57  2857.14  0.1496  7857.14  0.0 -0.2493  0.1496         0   \n316430  6428.57  2857.14  0.1496  7857.14  0.0 -0.2493  0.2493         0   \n\n        miss_distance  hit_time  \n0                 NaN       NaN  \n1                 NaN       NaN  \n2                 NaN       NaN  \n3                 NaN       NaN  \n4                 NaN       NaN  \n...               ...       ...  \n316426     12310.4325       NaN  \n316427     16109.3516       NaN  \n316428     19837.7899       NaN  \n316429     22452.0551       NaN  \n316430     24187.8707       NaN  \n\n[316431 rows x 10 columns]",
      "text/html": "<div>\n<style scoped>\n    .dataframe tbody tr th:only-of-type {\n        vertical-align: middle;\n    }\n\n    .dataframe tbody tr th {\n        vertical-align: top;\n    }\n\n    .dataframe thead th {\n        text-align: right;\n    }\n</style>\n<table border=\"1\" class=\"dataframe\">\n  <thead>\n    <tr style=\"text-align: right;\">\n      <th></th>\n      <th>hP</th>\n      <th>dP</th>\n      <th>gammaP</th>\n      <th>hE</th>\n      <th>dE</th>\n      <th>gammaE</th>\n      <th>beta</th>\n      <th>hit_flag</th>\n      <th>miss_distance</th>\n      <th>hit_time</th>\n    </tr>\n  </thead>\n  <tbody>\n    <tr>\n      <th>0</th>\n      <td>5000.00</td>\n      <td>0.00</td>\n      <td>-0.3491</td>\n      <td>5000.00</td>\n      <td>0.0</td>\n      <td>-0.3491</td>\n      <td>-0.3491</td>\n      <td>0</td>\n      <td>NaN</td>\n      <td>NaN</td>\n    </tr>\n    <tr>\n      <th>1</th>\n      <td>5000.00</td>\n      <td>0.00</td>\n      <td>-0.3491</td>\n      <td>5000.00</td>\n      <td>0.0</td>\n      <td>-0.3491</td>\n      <td>-0.2493</td>\n      <td>0</td>\n      <td>NaN</td>\n      <td>NaN</td>\n    </tr>\n    <tr>\n      <th>2</th>\n      <td>5000.00</td>\n      <td>0.00</td>\n      <td>-0.3491</td>\n      <td>5000.00</td>\n      <td>0.0</td>\n      <td>-0.3491</td>\n      <td>-0.1496</td>\n      <td>0</td>\n      <td>NaN</td>\n      <td>NaN</td>\n    </tr>\n    <tr>\n      <th>3</th>\n      <td>5000.00</td>\n      <td>0.00</td>\n      <td>-0.3491</td>\n      <td>5000.00</td>\n      <td>0.0</td>\n      <td>-0.3491</td>\n      <td>-0.0499</td>\n      <td>0</td>\n      <td>NaN</td>\n      <td>NaN</td>\n    </tr>\n    <tr>\n      <th>4</th>\n      <td>5000.00</td>\n      <td>0.00</td>\n      <td>-0.3491</td>\n      <td>5000.00</td>\n      <td>0.0</td>\n      <td>-0.3491</td>\n      <td>0.0499</td>\n      <td>0</td>\n      <td>NaN</td>\n      <td>NaN</td>\n    </tr>\n    <tr>\n      <th>...</th>\n      <td>...</td>\n      <td>...</td>\n      <td>...</td>\n      <td>...</td>\n      <td>...</td>\n      <td>...</td>\n      <td>...</td>\n      <td>...</td>\n      <td>...</td>\n      <td>...</td>\n    </tr>\n    <tr>\n      <th>316426</th>\n      <td>6428.57</td>\n      <td>2857.14</td>\n      <td>0.1496</td>\n      <td>7857.14</td>\n      <td>0.0</td>\n      <td>-0.2493</td>\n      <td>-0.1496</td>\n      <td>0</td>\n      <td>12310.4325</td>\n      <td>NaN</td>\n    </tr>\n    <tr>\n      <th>316427</th>\n      <td>6428.57</td>\n      <td>2857.14</td>\n      <td>0.1496</td>\n      <td>7857.14</td>\n      <td>0.0</td>\n      <td>-0.2493</td>\n      <td>-0.0499</td>\n      <td>0</td>\n      <td>16109.3516</td>\n      <td>NaN</td>\n    </tr>\n    <tr>\n      <th>316428</th>\n      <td>6428.57</td>\n      <td>2857.14</td>\n      <td>0.1496</td>\n      <td>7857.14</td>\n      <td>0.0</td>\n      <td>-0.2493</td>\n      <td>0.0499</td>\n      <td>0</td>\n      <td>19837.7899</td>\n      <td>NaN</td>\n    </tr>\n    <tr>\n      <th>316429</th>\n      <td>6428.57</td>\n      <td>2857.14</td>\n      <td>0.1496</td>\n      <td>7857.14</td>\n      <td>0.0</td>\n      <td>-0.2493</td>\n      <td>0.1496</td>\n      <td>0</td>\n      <td>22452.0551</td>\n      <td>NaN</td>\n    </tr>\n    <tr>\n      <th>316430</th>\n      <td>6428.57</td>\n      <td>2857.14</td>\n      <td>0.1496</td>\n      <td>7857.14</td>\n      <td>0.0</td>\n      <td>-0.2493</td>\n      <td>0.2493</td>\n      <td>0</td>\n      <td>24187.8707</td>\n      <td>NaN</td>\n    </tr>\n  </tbody>\n</table>\n<p>316431 rows × 10 columns</p>\n</div>"
     },
     "execution_count": 163,
     "metadata": {},
     "output_type": "execute_result"
    }
   ],
   "source": [
    "data"
   ],
   "metadata": {
    "collapsed": false,
    "ExecuteTime": {
     "end_time": "2025-02-19T16:16:26.724296Z",
     "start_time": "2025-02-19T16:16:26.693432Z"
    }
   },
   "id": "7e2c8096e051a4ac",
   "execution_count": 163
  },
  {
   "cell_type": "code",
   "outputs": [
    {
     "data": {
      "text/plain": "hit_flag\n0    227243\n1     89188\nName: count, dtype: int64"
     },
     "execution_count": 164,
     "metadata": {},
     "output_type": "execute_result"
    }
   ],
   "source": [
    "# Show 'hit_flag\" distribution\n",
    "data['hit_flag'].value_counts()"
   ],
   "metadata": {
    "collapsed": false,
    "ExecuteTime": {
     "end_time": "2025-02-19T16:16:27.351601Z",
     "start_time": "2025-02-19T16:16:27.326044Z"
    }
   },
   "id": "360a51e9c1260ec2",
   "execution_count": 164
  },
  {
   "cell_type": "code",
   "outputs": [],
   "source": [
    "df_hit = data[data['hit_flag'] == 0]"
   ],
   "metadata": {
    "collapsed": false,
    "ExecuteTime": {
     "end_time": "2025-02-19T13:38:26.206009Z",
     "start_time": "2025-02-19T13:38:26.195668Z"
    }
   },
   "id": "5a36136fa616c813",
   "execution_count": 152
  },
  {
   "cell_type": "code",
   "outputs": [
    {
     "data": {
      "text/plain": "             hP   dP  gammaP        hE   dE  gammaE    beta  hit_flag  \\\n0       5000.00  0.0 -0.3491   5000.00  0.0 -0.3491 -0.3491         0   \n1       5000.00  0.0 -0.3491   5000.00  0.0 -0.3491 -0.2493         0   \n2       5000.00  0.0 -0.3491   5000.00  0.0 -0.3491 -0.1496         0   \n3       5000.00  0.0 -0.3491   5000.00  0.0 -0.3491 -0.0499         0   \n4       5000.00  0.0 -0.3491   5000.00  0.0 -0.3491  0.0499         0   \n...         ...  ...     ...       ...  ...     ...     ...       ...   \n268817  6428.57  0.0 -0.2493  12142.86  0.0 -0.1496 -0.2493         0   \n268818  6428.57  0.0 -0.2493  12142.86  0.0 -0.1496 -0.1496         0   \n268819  6428.57  0.0 -0.2493  12142.86  0.0 -0.1496 -0.0499         0   \n268820  6428.57  0.0 -0.2493  12142.86  0.0 -0.1496  0.0499         0   \n268821  6428.57  0.0 -0.2493  12142.86  0.0 -0.1496  0.1496         0   \n\n        miss_distance  hit_time  \n0                 NaN       NaN  \n1                 NaN       NaN  \n2                 NaN       NaN  \n3                 NaN       NaN  \n4                 NaN       NaN  \n...               ...       ...  \n268817     32857.6488       NaN  \n268818     36077.0829       NaN  \n268819     37486.5264       NaN  \n268820     38044.5280       NaN  \n268821     38619.2746       NaN  \n\n[193292 rows x 10 columns]",
      "text/html": "<div>\n<style scoped>\n    .dataframe tbody tr th:only-of-type {\n        vertical-align: middle;\n    }\n\n    .dataframe tbody tr th {\n        vertical-align: top;\n    }\n\n    .dataframe thead th {\n        text-align: right;\n    }\n</style>\n<table border=\"1\" class=\"dataframe\">\n  <thead>\n    <tr style=\"text-align: right;\">\n      <th></th>\n      <th>hP</th>\n      <th>dP</th>\n      <th>gammaP</th>\n      <th>hE</th>\n      <th>dE</th>\n      <th>gammaE</th>\n      <th>beta</th>\n      <th>hit_flag</th>\n      <th>miss_distance</th>\n      <th>hit_time</th>\n    </tr>\n  </thead>\n  <tbody>\n    <tr>\n      <th>0</th>\n      <td>5000.00</td>\n      <td>0.0</td>\n      <td>-0.3491</td>\n      <td>5000.00</td>\n      <td>0.0</td>\n      <td>-0.3491</td>\n      <td>-0.3491</td>\n      <td>0</td>\n      <td>NaN</td>\n      <td>NaN</td>\n    </tr>\n    <tr>\n      <th>1</th>\n      <td>5000.00</td>\n      <td>0.0</td>\n      <td>-0.3491</td>\n      <td>5000.00</td>\n      <td>0.0</td>\n      <td>-0.3491</td>\n      <td>-0.2493</td>\n      <td>0</td>\n      <td>NaN</td>\n      <td>NaN</td>\n    </tr>\n    <tr>\n      <th>2</th>\n      <td>5000.00</td>\n      <td>0.0</td>\n      <td>-0.3491</td>\n      <td>5000.00</td>\n      <td>0.0</td>\n      <td>-0.3491</td>\n      <td>-0.1496</td>\n      <td>0</td>\n      <td>NaN</td>\n      <td>NaN</td>\n    </tr>\n    <tr>\n      <th>3</th>\n      <td>5000.00</td>\n      <td>0.0</td>\n      <td>-0.3491</td>\n      <td>5000.00</td>\n      <td>0.0</td>\n      <td>-0.3491</td>\n      <td>-0.0499</td>\n      <td>0</td>\n      <td>NaN</td>\n      <td>NaN</td>\n    </tr>\n    <tr>\n      <th>4</th>\n      <td>5000.00</td>\n      <td>0.0</td>\n      <td>-0.3491</td>\n      <td>5000.00</td>\n      <td>0.0</td>\n      <td>-0.3491</td>\n      <td>0.0499</td>\n      <td>0</td>\n      <td>NaN</td>\n      <td>NaN</td>\n    </tr>\n    <tr>\n      <th>...</th>\n      <td>...</td>\n      <td>...</td>\n      <td>...</td>\n      <td>...</td>\n      <td>...</td>\n      <td>...</td>\n      <td>...</td>\n      <td>...</td>\n      <td>...</td>\n      <td>...</td>\n    </tr>\n    <tr>\n      <th>268817</th>\n      <td>6428.57</td>\n      <td>0.0</td>\n      <td>-0.2493</td>\n      <td>12142.86</td>\n      <td>0.0</td>\n      <td>-0.1496</td>\n      <td>-0.2493</td>\n      <td>0</td>\n      <td>32857.6488</td>\n      <td>NaN</td>\n    </tr>\n    <tr>\n      <th>268818</th>\n      <td>6428.57</td>\n      <td>0.0</td>\n      <td>-0.2493</td>\n      <td>12142.86</td>\n      <td>0.0</td>\n      <td>-0.1496</td>\n      <td>-0.1496</td>\n      <td>0</td>\n      <td>36077.0829</td>\n      <td>NaN</td>\n    </tr>\n    <tr>\n      <th>268819</th>\n      <td>6428.57</td>\n      <td>0.0</td>\n      <td>-0.2493</td>\n      <td>12142.86</td>\n      <td>0.0</td>\n      <td>-0.1496</td>\n      <td>-0.0499</td>\n      <td>0</td>\n      <td>37486.5264</td>\n      <td>NaN</td>\n    </tr>\n    <tr>\n      <th>268820</th>\n      <td>6428.57</td>\n      <td>0.0</td>\n      <td>-0.2493</td>\n      <td>12142.86</td>\n      <td>0.0</td>\n      <td>-0.1496</td>\n      <td>0.0499</td>\n      <td>0</td>\n      <td>38044.5280</td>\n      <td>NaN</td>\n    </tr>\n    <tr>\n      <th>268821</th>\n      <td>6428.57</td>\n      <td>0.0</td>\n      <td>-0.2493</td>\n      <td>12142.86</td>\n      <td>0.0</td>\n      <td>-0.1496</td>\n      <td>0.1496</td>\n      <td>0</td>\n      <td>38619.2746</td>\n      <td>NaN</td>\n    </tr>\n  </tbody>\n</table>\n<p>193292 rows × 10 columns</p>\n</div>"
     },
     "execution_count": 145,
     "metadata": {},
     "output_type": "execute_result"
    }
   ],
   "source": [
    "df_hit"
   ],
   "metadata": {
    "collapsed": false,
    "ExecuteTime": {
     "end_time": "2025-02-19T13:01:59.417456Z",
     "start_time": "2025-02-19T13:01:59.401236Z"
    }
   },
   "id": "ff1f0c72fef6b5e0",
   "execution_count": 145
  },
  {
   "cell_type": "code",
   "outputs": [],
   "source": [],
   "metadata": {
    "collapsed": false,
    "ExecuteTime": {
     "end_time": "2025-02-19T13:01:59.977728Z",
     "start_time": "2025-02-19T13:01:59.972285Z"
    }
   },
   "id": "976bc3662658c80a",
   "execution_count": 145
  }
 ],
 "metadata": {
  "kernelspec": {
   "display_name": "Python 3",
   "language": "python",
   "name": "python3"
  },
  "language_info": {
   "codemirror_mode": {
    "name": "ipython",
    "version": 2
   },
   "file_extension": ".py",
   "mimetype": "text/x-python",
   "name": "python",
   "nbconvert_exporter": "python",
   "pygments_lexer": "ipython2",
   "version": "2.7.6"
  }
 },
 "nbformat": 4,
 "nbformat_minor": 5
}
